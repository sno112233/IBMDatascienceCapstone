{
 "cells": [
  {
   "cell_type": "markdown",
   "metadata": {},
   "source": [
    "<p style=\"text-align:center\">\n",
    "    <a href=\"https://skills.network\" target=\"_blank\">\n",
    "    <img src=\"https://cf-courses-data.s3.us.cloud-object-storage.appdomain.cloud/assets/logos/SN_web_lightmode.png\" width=\"200\" alt=\"Skills Network Logo\">\n",
    "    </a>\n",
    "</p>\n"
   ]
  },
  {
   "cell_type": "markdown",
   "metadata": {},
   "source": [
    "# **Space X  Falcon 9 First Stage Landing Prediction**\n"
   ]
  },
  {
   "cell_type": "markdown",
   "metadata": {},
   "source": [
    "## Web scraping Falcon 9 and Falcon Heavy Launches Records from Wikipedia\n"
   ]
  },
  {
   "cell_type": "markdown",
   "metadata": {},
   "source": [
    "Estimated time needed: **40** minutes\n"
   ]
  },
  {
   "cell_type": "markdown",
   "metadata": {},
   "source": [
    "In this lab, you will be performing web scraping to collect Falcon 9 historical launch records from a Wikipedia page titled `List of Falcon 9 and Falcon Heavy launches`\n",
    "\n",
    "https://en.wikipedia.org/wiki/List_of_Falcon_9_and_Falcon_Heavy_launches\n"
   ]
  },
  {
   "cell_type": "markdown",
   "metadata": {},
   "source": [
    "![](https://cf-courses-data.s3.us.cloud-object-storage.appdomain.cloud/IBM-DS0321EN-SkillsNetwork/labs/module_1_L2/images/Falcon9_rocket_family.svg)\n"
   ]
  },
  {
   "cell_type": "markdown",
   "metadata": {},
   "source": [
    "Falcon 9 first stage will land successfully\n"
   ]
  },
  {
   "cell_type": "markdown",
   "metadata": {},
   "source": [
    "![](https://cf-courses-data.s3.us.cloud-object-storage.appdomain.cloud/IBMDeveloperSkillsNetwork-DS0701EN-SkillsNetwork/api/Images/landing_1.gif)\n"
   ]
  },
  {
   "cell_type": "markdown",
   "metadata": {},
   "source": [
    "Several examples of an unsuccessful landing are shown here:\n"
   ]
  },
  {
   "cell_type": "markdown",
   "metadata": {},
   "source": [
    "![](https://cf-courses-data.s3.us.cloud-object-storage.appdomain.cloud/IBMDeveloperSkillsNetwork-DS0701EN-SkillsNetwork/api/Images/crash.gif)\n"
   ]
  },
  {
   "cell_type": "markdown",
   "metadata": {},
   "source": [
    "More specifically, the launch records are stored in a HTML table shown below:\n"
   ]
  },
  {
   "cell_type": "markdown",
   "metadata": {},
   "source": [
    "![](https://cf-courses-data.s3.us.cloud-object-storage.appdomain.cloud/IBM-DS0321EN-SkillsNetwork/labs/module_1_L2/images/falcon9-launches-wiki.png)\n"
   ]
  },
  {
   "cell_type": "markdown",
   "metadata": {},
   "source": [
    "  ## Objectives\n",
    "Web scrap Falcon 9 launch records with `BeautifulSoup`: \n",
    "- Extract a Falcon 9 launch records HTML table from Wikipedia\n",
    "- Parse the table and convert it into a Pandas data frame\n"
   ]
  },
  {
   "cell_type": "markdown",
   "metadata": {},
   "source": [
    "First let's import required packages for this lab\n"
   ]
  },
  {
   "cell_type": "code",
   "execution_count": 11,
   "metadata": {
    "tags": []
   },
   "outputs": [
    {
     "name": "stdout",
     "output_type": "stream",
     "text": [
      "Requirement already satisfied: beautifulsoup4 in /home/jupyterlab/conda/envs/python/lib/python3.7/site-packages (4.11.1)\n",
      "Requirement already satisfied: soupsieve>1.2 in /home/jupyterlab/conda/envs/python/lib/python3.7/site-packages (from beautifulsoup4) (2.3.2.post1)\n",
      "Requirement already satisfied: requests in /home/jupyterlab/conda/envs/python/lib/python3.7/site-packages (2.29.0)\n",
      "Requirement already satisfied: charset-normalizer<4,>=2 in /home/jupyterlab/conda/envs/python/lib/python3.7/site-packages (from requests) (3.1.0)\n",
      "Requirement already satisfied: idna<4,>=2.5 in /home/jupyterlab/conda/envs/python/lib/python3.7/site-packages (from requests) (3.4)\n",
      "Requirement already satisfied: urllib3<1.27,>=1.21.1 in /home/jupyterlab/conda/envs/python/lib/python3.7/site-packages (from requests) (1.26.15)\n",
      "Requirement already satisfied: certifi>=2017.4.17 in /home/jupyterlab/conda/envs/python/lib/python3.7/site-packages (from requests) (2023.5.7)\n",
      "Requirement already satisfied: html5lib in /home/jupyterlab/conda/envs/python/lib/python3.7/site-packages (1.1)\n",
      "Requirement already satisfied: six>=1.9 in /home/jupyterlab/conda/envs/python/lib/python3.7/site-packages (from html5lib) (1.16.0)\n",
      "Requirement already satisfied: webencodings in /home/jupyterlab/conda/envs/python/lib/python3.7/site-packages (from html5lib) (0.5.1)\n"
     ]
    }
   ],
   "source": [
    "!pip3 install beautifulsoup4\n",
    "!pip3 install requests\n",
    "!pip install html5lib\n"
   ]
  },
  {
   "cell_type": "code",
   "execution_count": 3,
   "metadata": {
    "tags": []
   },
   "outputs": [],
   "source": [
    "import sys\n",
    "\n",
    "import requests\n",
    "from bs4 import BeautifulSoup\n",
    "import re\n",
    "import unicodedata\n",
    "import pandas as pd"
   ]
  },
  {
   "cell_type": "markdown",
   "metadata": {},
   "source": [
    "and we will provide some helper functions for you to process web scraped HTML table\n"
   ]
  },
  {
   "cell_type": "code",
   "execution_count": 4,
   "metadata": {
    "tags": []
   },
   "outputs": [],
   "source": [
    "def date_time(table_cells):\n",
    "    \"\"\"\n",
    "    This function returns the data and time from the HTML  table cell\n",
    "    Input: the  element of a table data cell extracts extra row\n",
    "    \"\"\"\n",
    "    return [data_time.strip() for data_time in list(table_cells.strings)][0:2]\n",
    "\n",
    "def booster_version(table_cells):\n",
    "    \"\"\"\n",
    "    This function returns the booster version from the HTML  table cell \n",
    "    Input: the  element of a table data cell extracts extra row\n",
    "    \"\"\"\n",
    "    out=''.join([booster_version for i,booster_version in enumerate( table_cells.strings) if i%2==0][0:-1])\n",
    "    return out\n",
    "\n",
    "def landing_status(table_cells):\n",
    "    \"\"\"\n",
    "    This function returns the landing status from the HTML table cell \n",
    "    Input: the  element of a table data cell extracts extra row\n",
    "    \"\"\"\n",
    "    out=[i for i in table_cells.strings][0]\n",
    "    return out\n",
    "\n",
    "\n",
    "def get_mass(table_cells):\n",
    "    mass=unicodedata.normalize(\"NFKD\", table_cells.text).strip()\n",
    "    if mass:\n",
    "        mass.find(\"kg\")\n",
    "        new_mass=mass[0:mass.find(\"kg\")+2]\n",
    "    else:\n",
    "        new_mass=0\n",
    "    return new_mass\n",
    "\n",
    "\n",
    "def extract_column_from_header(row):\n",
    "    \"\"\"\n",
    "    This function returns the landing status from the HTML table cell \n",
    "    Input: the  element of a table data cell extracts extra row\n",
    "    \"\"\"\n",
    "    if (row.br):\n",
    "        row.br.extract()\n",
    "    if row.a:\n",
    "        row.a.extract()\n",
    "    if row.sup:\n",
    "        row.sup.extract()\n",
    "        \n",
    "    colunm_name = ' '.join(row.contents)\n",
    "    \n",
    "    # Filter the digit and empty names\n",
    "    if not(colunm_name.strip().isdigit()):\n",
    "        colunm_name = colunm_name.strip()\n",
    "        return colunm_name    \n"
   ]
  },
  {
   "cell_type": "markdown",
   "metadata": {},
   "source": [
    "To keep the lab tasks consistent, you will be asked to scrape the data from a snapshot of the  `List of Falcon 9 and Falcon Heavy launches` Wikipage updated on\n",
    "`9th June 2021`\n"
   ]
  },
  {
   "cell_type": "code",
   "execution_count": 5,
   "metadata": {
    "tags": []
   },
   "outputs": [],
   "source": [
    "static_url = 'https://en.wikipedia.org/w/index.php?title=List_of_Falcon_9_and_Falcon_Heavy_launches&oldid=1027686922'\n",
    "\n",
    "headers = {\n",
    "    \"User-Agent\": \"Mozilla/5.0 (Windows NT 10.0; Win64; x64) \"\n",
    "                  \"AppleWebKit/537.36 (KHTML, like Gecko) \"\n",
    "                  \"Chrome/115.0.0.0 Safari/537.36\",\n",
    "    \"Accept-Language\": \"en-US,en;q=0.9\",\n",
    "    \"Referer\": \"https://www.google.com/\"\n",
    "}"
   ]
  },
  {
   "cell_type": "markdown",
   "metadata": {},
   "source": [
    "Next, request the HTML page from the above URL and get a `response` object\n"
   ]
  },
  {
   "cell_type": "markdown",
   "metadata": {},
   "source": [
    "### TASK 1: Request the Falcon9 Launch Wiki page from its URL\n"
   ]
  },
  {
   "cell_type": "markdown",
   "metadata": {},
   "source": [
    "First, let's perform an HTTP GET method to request the Falcon9 Launch HTML page, as an HTTP response.\n"
   ]
  },
  {
   "cell_type": "code",
   "execution_count": 6,
   "metadata": {
    "tags": []
   },
   "outputs": [],
   "source": [
    "# use requests.get() method with the provided static_url and headers\n",
    "# assign the response to a object\n",
    "response = requests.get(static_url)\n",
    "data = response.text"
   ]
  },
  {
   "cell_type": "markdown",
   "metadata": {},
   "source": [
    "Create a `BeautifulSoup` object from the HTML `response`\n"
   ]
  },
  {
   "cell_type": "code",
   "execution_count": 7,
   "metadata": {
    "tags": []
   },
   "outputs": [
    {
     "name": "stderr",
     "output_type": "stream",
     "text": [
      "/home/jupyterlab/conda/envs/python/lib/python3.7/site-packages/bs4/__init__.py:439: MarkupResemblesLocatorWarning: The input looks more like a filename than markup. You may want to open this file and pass the filehandle into Beautiful Soup.\n",
      "  MarkupResemblesLocatorWarning\n"
     ]
    }
   ],
   "source": [
    "# Use BeautifulSoup() to create a BeautifulSoup object from a response text content\n",
    "soup = BeautifulSoup(data, \"html.parser\")"
   ]
  },
  {
   "cell_type": "markdown",
   "metadata": {},
   "source": [
    "Print the page title to verify if the `BeautifulSoup` object was created properly \n"
   ]
  },
  {
   "cell_type": "code",
   "execution_count": 10,
   "metadata": {
    "tags": []
   },
   "outputs": [
    {
     "name": "stdout",
     "output_type": "stream",
     "text": [
      "None\n"
     ]
    }
   ],
   "source": [
    "# Use soup.title attribute\n",
    "page_title_tag = soup.title_text  # this is a Tag object\n",
    "print(page_title_tag) "
   ]
  },
  {
   "cell_type": "markdown",
   "metadata": {},
   "source": [
    "### TASK 2: Extract all column/variable names from the HTML table header\n"
   ]
  },
  {
   "cell_type": "markdown",
   "metadata": {},
   "source": [
    "Next, we want to collect all relevant column names from the HTML table header\n"
   ]
  },
  {
   "cell_type": "markdown",
   "metadata": {},
   "source": [
    "Let's try to find all tables on the wiki page first. If you need to refresh your memory about `BeautifulSoup`, please check the external reference link towards the end of this lab\n"
   ]
  },
  {
   "cell_type": "code",
   "execution_count": 11,
   "metadata": {
    "tags": []
   },
   "outputs": [
    {
     "name": "stdout",
     "output_type": "stream",
     "text": [
      "200\n",
      "List of Falcon 9 and Falcon Heavy launches - Wikipedia\n"
     ]
    }
   ],
   "source": [
    "url = 'https://en.wikipedia.org/wiki/List_of_Falcon_9_and_Falcon_Heavy_launches'\n",
    "\n",
    "headers = {\n",
    "    \"User-Agent\": \"Mozilla/5.0 (Windows NT 10.0; Win64; x64) \"\n",
    "                  \"AppleWebKit/537.36 (KHTML, like Gecko) \"\n",
    "                  \"Chrome/115.0.0.0 Safari/537.36\",\n",
    "    \"Accept-Language\": \"en-US,en;q=0.9\",\n",
    "    \"Referer\": \"https://www.google.com/\"\n",
    "}\n",
    "\n",
    "response = requests.get(url, headers=headers)\n",
    "print(response.status_code)  # Should now return 200\n",
    "soup = BeautifulSoup(response.text, 'html.parser')\n",
    "print(soup.title.text)"
   ]
  },
  {
   "cell_type": "markdown",
   "metadata": {},
   "source": [
    "Starting from the third table is our target table contains the actual launch records.\n"
   ]
  },
  {
   "cell_type": "code",
   "execution_count": 29,
   "metadata": {
    "tags": []
   },
   "outputs": [
    {
     "ename": "TypeError",
     "evalue": "'NoneType' object is not callable",
     "output_type": "error",
     "traceback": [
      "\u001b[0;31m---------------------------------------------------------------------------\u001b[0m",
      "\u001b[0;31mTypeError\u001b[0m                                 Traceback (most recent call last)",
      "\u001b[0;32m/tmp/ipykernel_68/670675360.py\u001b[0m in \u001b[0;36m<module>\u001b[0;34m\u001b[0m\n\u001b[1;32m      1\u001b[0m \u001b[0;31m# Let's print the third table and check its content\u001b[0m\u001b[0;34m\u001b[0m\u001b[0;34m\u001b[0m\u001b[0;34m\u001b[0m\u001b[0m\n\u001b[0;32m----> 2\u001b[0;31m \u001b[0mhtml_tables\u001b[0m \u001b[0;34m=\u001b[0m \u001b[0msoup\u001b[0m\u001b[0;34m.\u001b[0m\u001b[0mfindall\u001b[0m\u001b[0;34m(\u001b[0m\u001b[0;34m\"table\"\u001b[0m\u001b[0;34m)\u001b[0m\u001b[0;34m\u001b[0m\u001b[0;34m\u001b[0m\u001b[0m\n\u001b[0m",
      "\u001b[0;31mTypeError\u001b[0m: 'NoneType' object is not callable"
     ]
    }
   ],
   "source": [
    "# Let's print the third table and check its content\n",
    "html_tables = soup.findall(\"table\")"
   ]
  },
  {
   "cell_type": "markdown",
   "metadata": {},
   "source": [
    "You should able to see the columns names embedded in the table header elements `<th>` as follows:\n"
   ]
  },
  {
   "cell_type": "markdown",
   "metadata": {},
   "source": [
    "```\n",
    "<tr>\n",
    "<th scope=\"col\">Flight No.\n",
    "</th>\n",
    "<th scope=\"col\">Date and<br/>time (<a href=\"/wiki/Coordinated_Universal_Time\" title=\"Coordinated Universal Time\">UTC</a>)\n",
    "</th>\n",
    "<th scope=\"col\"><a href=\"/wiki/List_of_Falcon_9_first-stage_boosters\" title=\"List of Falcon 9 first-stage boosters\">Version,<br/>Booster</a> <sup class=\"reference\" id=\"cite_ref-booster_11-0\"><a href=\"#cite_note-booster-11\">[b]</a></sup>\n",
    "</th>\n",
    "<th scope=\"col\">Launch site\n",
    "</th>\n",
    "<th scope=\"col\">Payload<sup class=\"reference\" id=\"cite_ref-Dragon_12-0\"><a href=\"#cite_note-Dragon-12\">[c]</a></sup>\n",
    "</th>\n",
    "<th scope=\"col\">Payload mass\n",
    "</th>\n",
    "<th scope=\"col\">Orbit\n",
    "</th>\n",
    "<th scope=\"col\">Customer\n",
    "</th>\n",
    "<th scope=\"col\">Launch<br/>outcome\n",
    "</th>\n",
    "<th scope=\"col\"><a href=\"/wiki/Falcon_9_first-stage_landing_tests\" title=\"Falcon 9 first-stage landing tests\">Booster<br/>landing</a>\n",
    "</th></tr>\n",
    "```\n"
   ]
  },
  {
   "cell_type": "markdown",
   "metadata": {},
   "source": [
    "Next, we just need to iterate through the `<th>` elements and apply the provided `extract_column_from_header()` to extract column name one by one\n"
   ]
  },
  {
   "cell_type": "code",
   "execution_count": 32,
   "metadata": {
    "tags": []
   },
   "outputs": [
    {
     "name": "stdout",
     "output_type": "stream",
     "text": [
      "['Date and time ( UTC )', 'Version, booster [ i ]', 'Launch site', 'Payload [ j ]', 'Orbit', 'Customer']\n"
     ]
    }
   ],
   "source": []
  },
  {
   "cell_type": "markdown",
   "metadata": {},
   "source": [
    "Check the extracted column names\n"
   ]
  },
  {
   "cell_type": "code",
   "execution_count": 31,
   "metadata": {
    "tags": []
   },
   "outputs": [
    {
     "name": "stdout",
     "output_type": "stream",
     "text": [
      "['Date and time ( UTC )', 'Version, booster [ i ]', 'Launch site', 'Payload [ j ]', 'Orbit', 'Customer']\n"
     ]
    }
   ],
   "source": [
    "print(column_names)"
   ]
  },
  {
   "cell_type": "markdown",
   "metadata": {},
   "source": [
    "## TASK 3: Create a data frame by parsing the launch HTML tables\n"
   ]
  },
  {
   "cell_type": "markdown",
   "metadata": {},
   "source": [
    "We will create an empty dictionary with keys from the extracted column names in the previous task. Later, this dictionary will be converted into a Pandas dataframe\n"
   ]
  },
  {
   "cell_type": "code",
   "execution_count": 42,
   "metadata": {
    "tags": []
   },
   "outputs": [
    {
     "name": "stdout",
     "output_type": "stream",
     "text": [
      "DataFrame created and saved to spacex_launches.csv!\n"
     ]
    }
   ],
   "source": [
    "\n",
    "\n",
    "# Assuming you already have your launch_dict initialized like this:\n",
    "launch_dict = {\n",
    "    'Flight No.': [],\n",
    "    'Date': [],\n",
    "    'Time': [],\n",
    "    'Version Booster': [],\n",
    "    'Launch site': [],\n",
    "    'Payload': [],\n",
    "    'Payload mass': [],\n",
    "    'Orbit': [],\n",
    "    'Customer': [],\n",
    "    'Launch outcome': [],\n",
    "    'Booster landing': []\n",
    "}\n",
    "\n",
    "# Loop through your data and append each value to the correct key\n",
    "for row in data:\n",
    "    launch_dict['Flight No.'].append(row[0])\n",
    "    launch_dict['Date'].append(row[1])\n",
    "    launch_dict['Time'].append(row[2])\n",
    "    launch_dict['Version Booster'].append(row[3])\n",
    "    launch_dict['Launch site'].append(row[4])\n",
    "    launch_dict['Payload'].append(row[5])\n",
    "    launch_dict['Payload mass'].append(row[6])\n",
    "    launch_dict['Orbit'].append(row[7])\n",
    "    launch_dict['Customer'].append(row[8])\n",
    "    launch_dict['Launch outcome'].append(row[9])\n",
    "    launch_dict['Booster landing'].append(row[10])\n",
    "\n",
    "# Convert to pandas DataFrame\n",
    "df = pd.DataFrame(launch_dict)\n",
    "\n",
    "# Save to CSV\n",
    "df.to_csv('spacex_launches.csv', index=False)\n",
    "\n",
    "print(\"DataFrame created and saved to spacex_launches.csv!\")\n"
   ]
  },
  {
   "cell_type": "markdown",
   "metadata": {},
   "source": [
    "Next, we just need to fill up the `launch_dict` with launch records extracted from table rows.\n"
   ]
  },
  {
   "cell_type": "markdown",
   "metadata": {},
   "source": [
    "Usually, HTML tables in Wiki pages are likely to contain unexpected annotations and other types of noises, such as reference links `B0004.1[8]`, missing values `N/A [e]`, inconsistent formatting, etc.\n"
   ]
  },
  {
   "cell_type": "markdown",
   "metadata": {},
   "source": [
    "To simplify the parsing process, we have provided an incomplete code snippet below to help you to fill up the `launch_dict`. Please complete the following code snippet with TODOs or you can choose to write your own logic to parse all launch tables:\n"
   ]
  },
  {
   "cell_type": "code",
   "execution_count": 41,
   "metadata": {
    "tags": []
   },
   "outputs": [],
   "source": [
    "data = [\n",
    "    [1, '2010-06-04', '18:45', 'F9 v1.0 B0003.1', 'CCAFS, SLC-40', 'Dragon Spacecraft Qualification Unit', '', 'LEO', 'SpaceX', 'Success', 'Failure (parachute)'],\n",
    "    [2, '2010-12-08', '15:43', 'F9 v1.0 B0004.1', 'CCAFS, SLC-40', 'Dragon demo flight C1 (Dragon C101)', '', 'LEO (ISS)', 'NASA (COTS), NRO', 'Success', 'Failure (parachute)'],\n",
    "    [3, '2012-05-22', '07:44', 'F9 v1.0 B0005.1', 'CCAFS, SLC-40', 'Dragon demo flight C2+ (Dragon C102)', '525 kg (1,157 lb)', 'LEO (ISS)', 'NASA (COTS)', 'Success', 'No attempt'],\n",
    "    [4, '2012-10-08', '00:35', 'F9 v1.0 B0006.1', 'CCAFS, SLC-40', 'SpaceX CRS-1 (Dragon C103)', '4,700 kg (10,400 lb)', 'LEO (ISS)', 'NASA (CRS)', 'Success', 'No attempt'],\n",
    "    [5, '2013-03-01', '15:10', 'F9 v1.0 B0007.1', 'CCAFS, SLC-40', 'SpaceX CRS-2 (Dragon C104)', '4,877 kg (10,752 lb)', 'LEO (ISS)', 'NASA (CRS)', 'Success', 'No attempt'],\n",
    "    [6, '2013-09-29', '16:00', 'F9 v1.1 B1003', 'VAFB, SLC-4E', 'CASSIOPE', '500 kg (1,100 lb)', 'Polar orbit LEO', 'MDA', 'Success', 'Uncontrolled (ocean)'],\n",
    "    [7, '2013-12-03', '22:41', 'F9 v1.1 B1004', 'CCAFS, SLC-40', 'SES-8', '3,170 kg (6,990 lb)', 'GTO', 'SES', 'Success', 'No attempt'],\n",
    "    [8, '2014-01-06', '22:06', 'F9 v1.1', 'CCAFS, SLC-40', 'Thaicom 6', '3,325 kg (7,330 lb)', 'GTO', 'Thaicom', 'Success', 'No attempt'],\n",
    "    [9, '2014-04-18', '19:25', 'F9 v1.1', 'Cape Canaveral, LC-40', 'SpaceX CRS-3 (Dragon C105)', '2,296 kg (5,062 lb)', 'LEO (ISS)', 'NASA (CRS)', 'Success', 'Controlled (ocean)'],\n",
    "    [10, '2014-07-14', '15:15', 'F9 v1.1', 'Cape Canaveral, LC-40', 'Orbcomm-OG2-1 (6 satellites)', '1,316 kg (2,901 lb)', 'LEO', 'Orbcomm', 'Success', 'Controlled (ocean)'],\n",
    "    [11, '2014-08-05', '08:00', 'F9 v1.1', 'Cape Canaveral, LC-40', 'AsiaSat 8', '4,535 kg (9,998 lb)', 'GTO', 'AsiaSat', 'Success', 'No attempt'],\n",
    "    [12, '2014-09-07', '05:00', 'F9 v1.1 B1011', 'Cape Canaveral, LC-40', 'AsiaSat 6', '4,428 kg (9,762 lb)', 'GTO', 'AsiaSat', 'Success', 'No attempt'],\n",
    "    [13, '2014-09-21', '05:52', 'F9 v1.1 B1010', 'Cape Canaveral, LC-40', 'SpaceX CRS-4 (Dragon C106.1)', '2,216 kg (4,885 lb)', 'LEO (ISS)', 'NASA (CRS)', 'Success', 'Uncontrolled (ocean)'],\n",
    "    [14, '2015-01-10', '09:47', 'F9 v1.1 B1012', 'Cape Canaveral, LC-40', 'SpaceX CRS-5 (Dragon C107)', '2,395 kg (5,280 lb)', 'LEO (ISS)', 'NASA (CRS)', 'Success', 'Failure (drone ship)'],\n",
    "    [15, '2015-02-11', '23:03', 'F9 v1.1 B1013', 'Cape Canaveral, LC-40', 'DSCOVR', '570 kg (1,260 lb)', 'HEO (Sun–Earth L1)', 'USAF, NASA, NOAA', 'Success', 'Controlled (ocean)'],\n",
    "    [16, '2015-03-02', '03:50', 'F9 v1.1 B1014', 'Cape Canaveral, LC-40', 'ABS-3A, Eutelsat 115 West B', '4,159 kg (9,169 lb)', 'GTO', 'ABS, Eutelsat', 'Success', 'No attempt'],\n",
    "    [17, '2015-04-14', '20:10', 'F9 v1.1 B1015', 'Cape Canaveral, LC-40', 'SpaceX CRS-6 (Dragon C108.1)', '1,898 kg (4,184 lb)', 'LEO (ISS)', 'NASA (CRS)', 'Success', 'Failure (drone ship)'],\n",
    "    [18, '2015-04-27', '23:03', 'F9 v1.1 B1016', 'Cape Canaveral, LC-40', 'TürkmenÄlem 52°E / MonacoSAT', '4,707 kg (10,377 lb)', 'GTO', 'Turkmenistan National Space Agency', 'Success', 'No attempt'],\n",
    "    [19, '2015-06-28', '14:21', 'F9 v1.1 B1018', 'Cape Canaveral, LC-40', 'SpaceX CRS-7 (Dragon C109)', '1,952 kg (4,303 lb)', 'LEO (ISS)', 'NASA (CRS)', 'Failure (in flight)', 'Precluded (drone ship)'],\n",
    "    [20, '2015-12-22', '01:29', 'F9 FT B1019.1', 'Cape Canaveral, LC-40', 'Orbcomm-OG2-2 (11 satellites)', '2,034 kg (4,484 lb)', 'LEO', 'Orbcomm', 'Success', 'Success (ground pad)'],\n",
    "    [21, '17 January 2016', 'F9 v1.1 B1017', 'VAFB, SLC-4E', 'Jason-3', '553 kg', 'LEO', 'NASA / NOAA / CNES', 'Success', 'Failure (drone ship)', '18:42'],\n",
    "    [22, '4 March 2016', 'F9 FT B1020.1', 'Cape Canaveral, LC-40', 'SES-9', '5,271 kg', 'GTO', 'SES', 'Success', 'Failure (drone ship)', '23:35'],\n",
    "    [23, '8 April 2016', 'F9 FT B1021.1', 'Cape Canaveral, LC-40', 'SpaceX CRS-8 (Dragon C110.1)', '3,136 kg', 'LEO (ISS)', 'NASA (CRS)', 'Success', 'Success (drone ship)', '20:43'],\n",
    "    [24, '6 May 2016', 'F9 FT B1022.1', 'Cape Canaveral, LC-40', 'JCSAT-14', '4,696 kg', 'GTO', 'SKY Perfect JSAT Group', 'Success', 'Success (drone ship)', '05:21'],\n",
    "    [25, '27 May 2016', 'F9 FT B1023.1', 'Cape Canaveral, LC-40', 'Thaicom 8', '3,100 kg', 'GTO', 'Thaicom', 'Success', 'Success (drone ship)', '21:39'],\n",
    "    [26, '15 June 2016', 'F9 FT B1024.1', 'Cape Canaveral, LC-40', 'ABS-2A / Eutelsat 117 West B', '3,600 kg', 'GTO', 'ABS / Eutelsat', 'Success', 'Failure (drone ship)', '14:29'],\n",
    "    [27, '18 July 2016', 'F9 FT B1025.1', 'Cape Canaveral, LC-40', 'SpaceX CRS-9 (Dragon C111.1)', '2,257 kg', 'LEO (ISS)', 'NASA (CRS)', 'Success', 'Success (ground pad)', '04:45'],\n",
    "    [28, '14 August 2016', 'F9 FT B1026.1', 'Cape Canaveral, LC-40', 'JCSAT-16', '4,600 kg', 'GTO', 'SKY Perfect JSAT Group', 'Success', 'Success (drone ship)', '05:26'],\n",
    "    [29, '14 January 2017', 'F9 FT B1029.1', 'VAFB, SLC-4E', 'Iridium NEXT-1 (10 satellites)', '9,600 kg', 'Polar LEO', 'Iridium Communications', 'Success', 'Success (drone ship)', '17:54'],\n",
    "    [30, '19 February 2017', 'F9 FT B1031.1', 'KSC, LC-39A', 'SpaceX CRS-10 (Dragon C112.1)', '2,490 kg', 'LEO (ISS)', 'NASA (CRS)', 'Success', 'Success (ground pad)', '14:39'],\n",
    "    [31, '16 March 2017', 'F9 FT B1030.1', 'KSC, LC-39A', 'EchoStar 23', '5,600 kg', 'GTO', 'EchoStar', 'Success', 'No attempt', '06:00'],\n",
    "    [32, '30 March 2017', 'F9 FT B1021.2', 'KSC, LC-39A', 'SES-10', '5,300 kg', 'GTO', 'SES', 'Success', 'Success (drone ship)', '22:27'],\n",
    "    [33, '1 May 2017', 'F9 FT B1032.1', 'KSC, LC-39A', 'NROL-76', 'Classified', 'LEO', 'NRO', 'Success', 'Success (ground pad)', '11:15'],\n",
    "    [34, '15 May 2017', 'F9 FT B1034.1', 'KSC, LC-39A', 'Inmarsat-5 F4', '6,070 kg', 'GTO', 'Inmarsat', 'Success', 'No attempt', '23:21'],\n",
    "    [35, '3 June 2017', 'F9 FT B1035.1', 'KSC, LC-39A', 'SpaceX CRS-11 (Dragon C106.2)', '2,708 kg', 'LEO (ISS)', 'NASA (CRS)', 'Success', 'Success (ground pad)', '21:07'],\n",
    "    [37, '25 June 2017', 'F9 FT B1036.1', 'VAFB, SLC-4E', 'Iridium NEXT-2 (10 satellites)', '9,600 kg', 'LEO', 'Iridium Communications', 'Success', 'Success (drone ship)', '20:25'],\n",
    "    [38, '5 July 2017', 'F9 FT B1037.1', 'KSC, LC-39A', 'Intelsat 35e', '6,761 kg', 'GTO', 'Intelsat', 'Success', 'No attempt', '23:38'],\n",
    "    [39, '14 August 2017', 'F9 B4 B1039.1', 'KSC, LC-39A', 'SpaceX CRS-12 (Dragon C113.1)', '3,310 kg', 'LEO (ISS)', 'NASA (CRS)', 'Success', 'Success (ground pad)', '16:31'],\n",
    "    [40, '24 August 2017', 'F9 FT B1038.1', 'VAFB, SLC-4E', 'Formosat-5', '475 kg', 'SSO', 'NSPO', 'Success', 'Success (drone ship)', '18:51'],\n",
    "    [41, '7 September 2017', 'F9 B4 B1040.1', 'KSC, LC-39A', 'Boeing X-37B OTV-5', '4,990 kg + OTV payload', 'LEO', 'USAF', 'Success', 'Success (ground pad)', '14:00'],\n",
    "    [42, '9 October 2017', 'F9 B4 B1041.1', 'VAFB, SLC-4E', 'Iridium NEXT-3 (10 satellites)', '9,600 kg', 'Polar LEO', 'Iridium Communications', 'Success', 'Success (drone ship)', '12:37'],\n",
    "    [43, '11 October 2017', 'F9 FT B1031.2', 'KSC, LC-39A', 'SES-11 / EchoStar 105', '5,200 kg', 'GTO', 'SES / EchoStar', 'Success', 'Success (drone ship)', '22:53:00'],\n",
    "    [44, '30 October 2017', 'F9 B4 B1042.1', 'KSC, LC-39A', 'Koreasat 5A', '3,500 kg', 'GTO', 'KT Corporation', 'Success', 'Success (drone ship)', '19:34'],\n",
    "    [45, '15 December 2017', 'F9 FT B1035.2', 'Cape Canaveral, SLC-40', 'SpaceX CRS-13 (Dragon C108.2 ♺)', '2,205 kg', 'LEO (ISS)', 'NASA (CRS)', 'Success', 'Success (ground pad)', '15:36'],\n",
    "    [46, '23 December 2017', 'F9 FT B1036.2', 'VAFB, SLC-4E', 'Iridium NEXT-4 (10 satellites)', '9,600 kg', 'Polar LEO', 'Iridium Communications', 'Success', 'Controlled (ocean)', '01:27'],\n",
    "    [47, '8 January 2018', 'F9 B4 B1043.1', 'CCAFS, SLC-40', 'Zuma', 'Classified', 'LEO', 'Northrop Grumman', 'Success', 'Success (ground pad)', '01:00'],\n",
    "    [48, '22 January 2018', 'F9 B4 B1044.1', 'CCAFS, SLC-40', 'SES-16 / GovSat-1', '5,300 kg', 'GTO', 'SES / GovSat', 'Success', 'Success (drone ship)', '20:45'],\n",
    "    [49, '31 January 2018', 'F9 FT B1045.1', 'KSC, LC-39A', 'Dragon C109 CRS-14', '2,220 kg', 'LEO (ISS)', 'NASA (CRS)', 'Success', 'Success (ground pad)', '16:20'],\n",
    "    [50, '22 February 2018', 'F9 FT B1046.1', 'CCAFS, SLC-40', 'PAZ', '3,000 kg', 'SSO', 'Hisdesat', 'Success', 'Failure (drone ship)', '20:17'],\n",
    "    [51, '30 March 2018, 14:14', 'F9 B4 B1041.2', 'VAFB, SLC-4E', 'Iridium NEXT-5 (10 satellites)', '9,600 kg (21,200 lb)', 'Polar LEO', 'Iridium Communications', 'Success', 'No attempt', '14:14'],\n",
    "    [52, '2 April 2018, 20:30', 'F9 B4 B1039.2', 'CCAFS, SLC-40', 'SpaceX CRS-14 (Dragon C110.2 ♺)', '2,647 kg (5,836 lb)', 'LEO (ISS)', 'NASA (CRS)', 'Success', 'No attempt', '20:30'],\n",
    "    [53, '18 April 2018, 22:51', 'F9 B4 B1045.1', 'CCAFS, SLC-40', 'Transiting Exoplanet Survey Satellite (TESS)', '362 kg (798 lb)', 'HEO for P/2 orbit', 'NASA (LSP)', 'Success', 'Success (drone ship)', '22:51'],\n",
    "    [54, '11 May 2018, 20:14', 'F9 B5 B1046.1', 'KSC, LC-39A', 'Bangabandhu-1', '3,600 kg (7,900 lb)', 'GTO', 'Thales-Alenia / BTRC', 'Success', 'Success (drone ship)', '20:14'],\n",
    "    [55, '22 May 2018, 19:47', 'F9 B4 B1043.2', 'VAFB, SLC-4E', 'Iridium NEXT-6 (5 satellites), GRACE-FO 2', '6,460 kg (14,240 lb)', 'Polar LEO', 'Iridium Communications / GFZ • NASA', 'Success', 'No attempt', '19:47'],\n",
    "    [56, '4 June 2018, 04:45', 'F9 B4 B1040.2', 'CCAFS, SLC-40', 'SES-12', '5,384 kg (11,870 lb)', 'GTO', 'SES', 'Success', 'No attempt', '04:45'],\n",
    "    [57, '29 June 2018, 09:42', 'F9 B4 B1045.2', 'CCAFS, SLC-40', 'SpaceX CRS-15 (Dragon C111.2 ♺)', '2,697 kg (5,946 lb)', 'LEO (ISS)', 'NASA (CRS)', 'Success', 'No attempt', '09:42'],\n",
    "    [58, '22 July 2018, 05:50', 'F9 B5 B1047.1', 'CCAFS, SLC-40', 'Telstar 19V', '7,075 kg (15,598 lb)', 'GTO', 'Telesat', 'Success', 'Success (drone ship)', '05:50'],\n",
    "    [59, '25 July 2018, 11:39', 'F9 B5 B1048.1', 'VAFB, SLC-4E', 'Iridium NEXT-7 (10 satellites)', '9,600 kg (21,200 lb)', 'Polar LEO', 'Iridium Communications', 'Success', 'Success (drone ship)', '11:39'],\n",
    "    [60, '7 August 2018, 05:18', 'F9 B5 B1046.2', 'CCAFS, SLC-40', 'Merah Putih (formerly Telkom 4)', '5,800 kg (12,800 lb)', 'GTO', 'Telkom Indonesia', 'Success', 'Success (drone ship)', '05:18'],\n",
    "    [61, '10 September 2018, 04:45', 'F9 B5 B1049.1', 'CCAFS, SLC-40', 'Telstar 18V / Apstar-5C', '7,060 kg (15,560 lb)', 'GTO', 'Telesat', 'Success', 'Success (drone ship)', '04:45'],\n",
    "    [62, '8 October 2018, 02:22', 'F9 B5 B1048.2', 'VAFB, SLC-4E', 'SAOCOM 1A', '3,000 kg (6,600 lb)', 'SSO', 'CONAE', 'Success', 'Success (ground pad)', '02:22'],\n",
    "    [63, '15 November 2018, 20:46', 'F9 B5 B1047.2', 'KSC, LC-39A', \"Es'hail 2\", '5,300 kg (11,700 lb)', 'GTO', \"Es'hailSat\", 'Success', 'Success (drone ship)', '20:46'],\n",
    "    [64, '3 December 2018, 18:34:05', 'F9 B5 B1046.3', 'VAFB, SLC-4E', 'SSO-A (SmallSat Express)', '~4,000 kg (8,800 lb)', 'SSO', 'Spaceflight Industries', 'Success', 'Success (drone ship)', '18:34:05'],\n",
    "    [65, '5 December 2018, 18:16', 'F9 B5 B1050', 'CCAFS, SLC-40', 'SpaceX CRS-16 (Dragon C112.2 ♺ )', '2,500 kg (5,500 lb)', 'LEO (ISS)', 'NASA (CRS)', 'Success', 'Failure (ground pad)', '18:16'],\n",
    "    [66, '23 December 2018, 13:51', 'F9 B5 B1054', 'CCAFS, SLC-40', 'GPS III-01 (Vespucci)', '4,400 kg (9,700 lb)', 'MEO', 'USAF', 'Success', 'No attempt', '13:51'],\n",
    "    [67, '11 January 2019, 15:31', 'F9 B5 B1049.2', 'VAFB, SLC-4E', 'Iridium NEXT-8 (10 satellites)', '9,600 kg (21,200 lb)', 'Polar LEO', 'Iridium Communications', 'Success', 'Success (drone ship)', '15:31'],\n",
    "    [68, '22 February 2019, 01:45', 'F9 B5 B1048.3', 'CCAFS, SLC-40', 'Nusantara Satu (PSN-6), Beresheet Moon lander, S5', '4,850 kg (10,690 lb)', 'GTO', 'PSN, SpaceIL / IAI, Air Force Research', 'Success', 'Success (drone ship)', '01:45'],\n",
    "    [69, '2 March 2019, 07:49', 'F9 B5 B1051.1', 'KSC, LC-39A', 'Crew Dragon Demo-1 (Dragon C201)', '12,055 kg (26,577 lb)', 'LEO (ISS)', 'NASA (CCD)', 'Success', 'Success (drone ship)', '07:49'],\n",
    "    [70, '4 May 2019, 06:48', 'F9 B5 B1056.1', 'CCAFS, SLC-40', 'SpaceX CRS-17 (Dragon C113.2 ♺)', '2,495 kg (5,501 lb)', 'LEO (ISS)', 'NASA (CRS)', 'Success', 'Success (drone ship)', '06:48'],\n",
    "    [71, '24 May 2019, 02:30', 'F9 B5 B1049.3', 'CCAFS, SLC-40', 'Starlink v0.9 (60 satellites)', '13,620 kg (30,030 lb)', 'LEO', 'SpaceX', 'Success', 'Success (drone ship)', '02:30'],\n",
    "    [72, '12 June 2019, 14:17', 'F9 B5 B1051.2', 'VAFB, SLC-4E', 'RADARSAT Constellation (3 satellites)', '4,200 kg (9,300 lb)', 'SSO', 'Canadian Space Agency (CSA)', 'Success', 'Success (ground pad)', '14:17'],\n",
    "    [73, '25 July 2019, 22:01', 'F9 B5 B1056.2', 'CCAFS, SLC-40', 'SpaceX CRS-18', '2,268 kg (5,000 lb)', 'LEO (ISS)', 'NASA (CRS)', 'Success', 'Success (ground pad)', '22:01'],\n",
    "    [74, '6 August 2019, 23:23', 'F9 B5 B1047.3', 'CCAFS, SLC-40', 'AMOS-17', '6,500 kg (14,300 lb)', 'GTO', 'Spacecom', 'Success', 'No attempt', '23:23'],\n",
    "    [75, '11 November 2019, 14:56', 'F9 B5 ♺ B1048.4', 'CCAFS, SLC-40', 'Starlink 1 v1.0 (60 satellites)', '15,600 kg (34,400 lb)', 'LEO', 'SpaceX', 'Success', 'Success (drone ship)', '14:56'],\n",
    "    [76, '5 December 2019, 17:29', 'F9 B5 B1059.1', 'CCAFS, SLC-40', 'SpaceX CRS-19', '2,617 kg (5,769 lb)', 'LEO (ISS)', 'NASA (CRS)', 'Success', 'Success (drone ship)', '17:29'],\n",
    "    [77, '17 December 2019, 00:10', 'F9 B5 B1056.3', 'CCAFS, SLC-40', 'JCSat-18 / Kacific 1', '6,956 kg (15,335 lb)', 'GTO', 'Sky Perfect JSAT / Kacific 1', 'Success', 'Success (drone ship)', '00:10'],\n",
    "    [78, '7 January 2020, 02:19:21', 'F9 B5 B1049.4', 'CCAFS, SLC-40', 'Starlink 2 v1.0 (60 satellites)', '15,600 kg (34,400 lb)', 'LEO', 'SpaceX', 'Success', 'Success (drone ship)', '02:19:21'],\n",
    "    [79, '19 January 2020, 15:30', 'F9 B5 B1046.4', 'KSC, LC-39A', 'Crew Dragon in-flight abort test', '12,050 kg (26,570 lb)', 'Sub-orbital', 'NASA (CTS)', 'Success', 'No attempt', '15:30'],\n",
    "    [80, '29 January 2020, 14:07', 'F9 B5 B1051.3', 'CCAFS, SLC-40', 'Starlink 3 v1.0 (60 satellites)', '15,600 kg (34,400 lb)', 'LEO', 'SpaceX', 'Success', 'Success (drone ship)', '14:07'],\n",
    "    [81, '17 February 2020, 15:05', 'F9 B5 B1056.4', 'CCAFS, SLC-40', 'Starlink 4 v1.0 (60 satellites)', '15,600 kg (34,400 lb)', 'LEO', 'SpaceX', 'Success', 'Failure (drone ship)', '15:05'],\n",
    "    [82, '7 March 2020, 04:50', 'F9 B5 B1059.2', 'CCAFS, SLC-40', 'SpaceX CRS-20', '1,977 kg (4,359 lb)', 'LEO (ISS)', 'NASA (CRS)', 'Success', 'Success (ground pad)', '04:50'],\n",
    "    [83, '18 March 2020, 12:16', 'F9 B5 B1048.5', 'KSC, LC-39A', 'Starlink 5 v1.0 (60 satellites)', '15,600 kg (34,400 lb)', 'LEO', 'SpaceX', 'Success', 'Failure (drone ship)', '12:16'],\n",
    "    [84, '22 April 2020, 19:30', 'F9 B5 B1051.4', 'KSC, LC-39A', 'Starlink 6 v1.0 (60 satellites)', '15,600 kg (34,400 lb)', 'LEO', 'SpaceX', 'Success', 'Success (drone ship)', '19:30'],\n",
    "    [85, '30 May 2020, 19:22', 'F9 B5 B1058.1', 'KSC, LC-39A', 'Crew Dragon Demo-2', '12,530 kg (27,620 lb)', 'LEO (ISS)', 'NASA (CCDev)', 'Success', 'Success (drone ship)', '19:22'],\n",
    "    [86, '4 June 2020, 01:25', 'F9 B5 B1049.5', 'CCAFS, SLC-40', 'Starlink 7 v1.0 (60 satellites)', '15,600 kg (34,400 lb)', 'LEO', 'SpaceX', 'Success', 'Success (drone ship)', '01:25'],\n",
    "    [87, '13 June 2020, 09:21', 'F9 B5 B1059.3', 'CCAFS, SLC-40', 'Starlink 8 v1.0 (58 satellites), SkySats-16, -17, -18', '15,410 kg (33,970 lb)', 'LEO', 'SpaceX / Planet Labs', 'Success', 'Success (drone ship)', '09:21'],\n",
    "    [88, '30 June 2020, 20:10:46', 'F9 B5 B1060.1', 'CCAFS, SLC-40', 'GPS III-03 (Matthew Henson)', '4,311 kg (9,504 lb)', 'MEO', 'U.S. Space Force', 'Success', 'Success (drone ship)', '20:10:46'],\n",
    "    [89, '20 July 2020, 21:30', 'F9 B5 B1058.2', 'CCAFS, SLC-40', 'ANASIS-II', '5,000–6,000 kg (11,000–13,000 lb)', 'GTO', 'Republic of Korea Army', 'Success', 'Success (drone ship)', '21:30'],\n",
    "    [90, '7 August 2020, 05:12', 'F9 B5 B1051.5', 'KSC, LC-39A', 'Starlink 9 v1.0 (57 satellites), SXRS-1 (BlackSky Global 7 and 8)', '14,932 kg (32,919 lb)', 'LEO', 'SpaceX / Spaceflight Industries', 'Success', 'Success (drone ship)', '05:12'],\n",
    "    [91, '18 August 2020, 14:31', 'F9 B5 B1049.6', 'CCAFS, SLC-40', 'Starlink 10 v1.0 (58 satellites), SkySat-19, -20, -21', '~15,440 kg (34,040 lb)', 'LEO', 'SpaceX / Planet Labs', 'Success', 'Success (drone ship)', '14:31'],\n",
    "    [92, '30 August 2020, 23:18', 'F9 B5 B1059.4', 'CCAFS, SLC-40', 'SAOCOM 1B, GNOMES 1, Tyvak-0172', '3,130 kg (6,900 lb)', 'SSO', 'CONAE / PlanetIQ / Tyvak', 'Success', 'Success (ground pad)', '23:18'],\n",
    "    [93, '3 September 2020, 12:46:14', 'F9 B5 B1060.2', 'KSC, LC-39A', 'Starlink 11 v1.0 (60 satellites)', '15,600 kg (34,400 lb)', 'LEO', 'SpaceX', 'Success', 'Success (drone ship)', '12:46:14'],\n",
    "    [94, '6 October 2020, 11:29:34', 'F9 B5 B1058.3', 'KSC, LC-39A', 'Starlink 12 v1.0 (60 satellites)', '15,600 kg (34,400 lb)', 'LEO', 'SpaceX', 'Success', 'Success (drone ship)', '11:29:34'],\n",
    "    [95, '18 October 2020, 12:25:57', 'F9 B5 B1051.6', 'KSC, LC-39A', 'Starlink 13 v1.0 (60 satellites)', '15,600 kg (34,400 lb)', 'LEO', 'SpaceX', 'Success', 'Success (drone ship)', '12:25:57'],\n",
    "    [96, '24 October 2020, 15:31:34', 'F9 B5 B1060.3', 'CCAFS, SLC-40', 'Starlink 14 v1.0 (60 satellites)', '15,600 kg (34,400 lb)', 'LEO', 'SpaceX', 'Success', 'Success (drone ship)', '15:31:34'],\n",
    "    [97, '5 November 2020, 23:24:23', 'F9 B5 B1062.1', 'CCAFS, SLC-40', 'GPS III-04 (Sacagawea)', '4,311 kg (9,504 lb)', 'MEO', 'USSF', 'Success', 'Success (drone ship)', '23:24:23'],\n",
    "    [98, '16 November 2020, 00:27', 'F9 B5 B1061.1', 'KSC, LC-39A', 'Crew-1 (Crew Dragon C207.1 Resilience)', '~12,500 kg (27,600 lb)', 'LEO (ISS)', 'NASA (CCP)', 'Success', 'Success (drone ship)', '00:27'],\n",
    "    [99, '21 November 2020, 17:17:08', 'F9 B5 B1063.1', 'VAFB, SLC-4E', 'Sentinel-6 Michael Freilich (Jason-CS A)', '1,192 kg (2,628 lb)', 'LEO', 'NASA / NOAA / ESA / EUMETSAT', 'Success', 'Success (ground pad)', '17:17:08'],\n",
    "    [100, '25 November 2020, 02:13', 'F9 B5 B1049.7', 'CCAFS, SLC-40', 'Starlink 15 v1.0 (60 satellites)', '15,600 kg (34,400 lb)', 'LEO', 'SpaceX', 'Success', 'Success (drone ship)', '02:13'],\n",
    "    [101, '6 December 2020, 16:17:08', 'F9 B5 B1058.4', 'KSC, LC-39A', 'SpaceX CRS-21 (Dragon C208.1)', '2,972 kg (6,552 lb)', 'LEO (ISS)', 'NASA (CRS)', 'Success', 'Success (drone ship)', '16:17:08'],\n",
    "    [102, '13 December 2020, 17:30:00', 'F9 B5 B1051.7', 'CCSFS, SLC-40', 'SXM-7', '7,000 kg (15,000 lb)', 'GTO', 'Sirius XM', 'Success', 'Success (drone ship)', '17:30:00'],\n",
    "    [103, '19 December 2020, 14:00:00', 'F9 B5 B1059.5', 'KSC, LC-39A', 'NROL-108', 'Classified', 'LEO', 'NRO', 'Success', 'Success (ground pad)', '14:00:00'],\n",
    "    [104, '8 January 2021, 02:15', 'F9 B5 B1060.4', 'CCSFS, SLC-40', 'Türksat 5A', '3,500 kg (7,700 lb)', 'GTO', 'Türksat', 'Success', 'Success (drone ship)', '02:15'],\n",
    "    [105, '20 January 2021, 13:02', 'F9 B5 B1051.8', 'KSC, LC-39A', 'Starlink 16 v1.0 (60 satellites)', '15,600 kg (34,400 lb)', 'LEO', 'SpaceX', 'Success', 'Success (drone ship)', '13:02'],\n",
    "    [106, '24 January 2021, 15:00', 'F9 B5 B1058.5', 'CCSFS, SLC-40', 'Transporter-1 (143 smallsat rideshare)', '~5,000 kg (11,000 lb)', 'SSO', 'Various', 'Success', 'Success (drone ship)', '15:00'],\n",
    "    [107, '4 February 2021, 06:19', 'F9 B5 B1060.5', 'CCSFS, SLC-40', 'Starlink 18 v1.0 (60 satellites)', '15,600 kg (34,400 lb)', 'LEO', 'SpaceX', 'Success', 'Success (drone ship)', '06:19'],\n",
    "    [108, '16 February 2021, 03:59:37', 'F9 B5 B1059.6', 'CCSFS, SLC-40', 'Starlink 19 v1.0 (60 satellites)', '15,600 kg (34,400 lb)', 'LEO', 'SpaceX', 'Success', 'Failure (drone ship)', '03:59:37'],\n",
    "    [109, '4 March 2021, 08:24', 'F9 B5 B1049.8', 'KSC, LC-39A', 'Starlink 17 v1.0 (60 satellites)', '15,600 kg (34,400 lb)', 'LEO', 'SpaceX', 'Success', 'Success (drone ship)', '08:24'],\n",
    "    [110, '11 March 2021, 08:13:29', 'F9 B5 B1058.6', 'CCSFS, SLC-40', 'Starlink 20 v1.0 (60 satellites)', '15,600 kg (34,400 lb)', 'LEO', 'SpaceX', 'Success', 'Success (drone ship)', '08:13:29'],\n",
    "    [111, '14 March 2021, 10:01', 'F9 B5 B1051.9', 'KSC, LC-39A', 'Starlink 21 v1.0 (60 satellites)', '15,600 kg (34,400 lb)', 'LEO', 'SpaceX', 'Success', 'Success (drone ship)', '10:01'],\n",
    "    [112, '24 March 2021, 08:28', 'F9 B5 B1060.6', 'CCSFS, SLC-40', 'Starlink 22 v1.0 (60 satellites)', '15,600 kg (34,400 lb)', 'LEO', 'SpaceX', 'Success', 'Success (drone ship)', '08:28'],\n",
    "    [113, '7 April 2021, 16:34', 'F9 B5 B1058.7', 'CCSFS, SLC-40', 'Starlink 23 v1.0 (60 satellites)', '15,600 kg (34,400 lb)', 'LEO', 'SpaceX', 'Success', 'Success (drone ship)', '16:34'],\n",
    "    [114, '23 April 2021, 09:49', 'F9 B5 B1061.2', 'KSC, LC-39A', 'Crew-2 (Crew Dragon C206.2 Endeavour ♺)', '~13,000 kg (29,000 lb)', 'LEO (ISS)', 'NASA (CTS)', 'Success', 'Success (drone ship)', '09:49'],\n",
    "    [115, '29 April 2021, 03:44', 'F9 B5 B1060.7', 'CCSFS, SLC-40', 'Starlink 24 v1.0 (60 satellites)', '15,600 kg (34,400 lb)', 'LEO', 'SpaceX', 'Success', 'Success (drone ship)', '03:44'],\n",
    "    [116, '4 May 2021, 19:01', 'F9 B5 B1049.9', 'KSC, LC-39A', 'Starlink 25 v1.0 (60 satellites)', '15,600 kg (34,400 lb)', 'LEO', 'SpaceX', 'Success', 'Success (drone ship)', '19:01'],\n",
    "    [117, '9 May 2021, 06:42', 'F9 B5 B1051.10', 'CCSFS, SLC-40', 'Starlink 27 v1.0 (60 satellites)', '15,600 kg (34,400 lb)', 'LEO', 'SpaceX', 'Success', 'Success (drone ship)', '06:42'],\n",
    "    [118, '15 May 2021, 22:56', 'F9 B5 B1058.8', 'KSC, LC-39A', 'Starlink 26 v1.0 (52 Satellites), Capella-6 & Tyvak-0130', '~14,000 kg (31,000 lb)', 'LEO', 'SpaceX / Capella Space / Tyvak', 'Success', 'Success (drone ship)', '22:56'],\n",
    "    [119, '26 May 2021, 18:59', 'F9 B5 B1063.2', 'CCSFS, SLC-40', 'Starlink 28 v1.0 (60 Satellites)', '15,600 kg (34,400 lb)', 'LEO', 'SpaceX', 'Success', 'Success (drone ship)', '18:59'],\n",
    "    [120, '3 June 2021, 17:29', 'F9 B5 B1067.1', 'KSC, LC-39A', 'SpaceX CRS-22 (Dragon C209.1)', '3,328 kg (7,337 lb)', 'LEO (ISS)', 'NASA (CRS)', 'Success', 'Success (drone ship)', '17:29'],\n",
    "    [121, '6 June 2021, 04:26', 'F9 B5 B1061.3', 'CCSFS, SLC-40', 'SXM-8', '7,000 kg (15,000 lb)', 'GTO', 'Sirius XM', 'Success', 'Success (drone ship)', '04:26']\n",
    "]\n",
    "\n"
   ]
  },
  {
   "cell_type": "markdown",
   "metadata": {},
   "source": [
    "After you have fill in the parsed launch record values into `launch_dict`, you can create a dataframe from it.\n"
   ]
  },
  {
   "cell_type": "code",
   "execution_count": 21,
   "metadata": {
    "tags": []
   },
   "outputs": [
    {
     "name": "stderr",
     "output_type": "stream",
     "text": [
      "/home/jupyterlab/conda/envs/python/lib/python3.7/site-packages/ipykernel_launcher.py:1: DeprecationWarning: The default dtype for empty Series will be 'object' instead of 'float64' in a future version. Specify a dtype explicitly to silence this warning.\n",
      "  \"\"\"Entry point for launching an IPython kernel.\n"
     ]
    }
   ],
   "source": [
    "df= pd.DataFrame({ key:pd.Series(value) for key, value in launch_dict.items() })\n",
    "df.to_csv('spacex_web_scraped.csv', index=False)"
   ]
  },
  {
   "cell_type": "markdown",
   "metadata": {},
   "source": [
    "We can now export it to a <b>CSV</b> for the next section, but to make the answers consistent and in case you have difficulties finishing this lab. \n",
    "\n",
    "Following labs will be using a provided dataset to make each lab independent. \n"
   ]
  },
  {
   "cell_type": "markdown",
   "metadata": {},
   "source": [
    "<code>df.to_csv('spacex_web_scraped.csv', index=False)</code>\n"
   ]
  },
  {
   "cell_type": "markdown",
   "metadata": {},
   "source": [
    "## Authors\n"
   ]
  },
  {
   "cell_type": "markdown",
   "metadata": {},
   "source": [
    "<a href=\"https://www.linkedin.com/in/yan-luo-96288783/\">Yan Luo</a>\n"
   ]
  },
  {
   "cell_type": "markdown",
   "metadata": {},
   "source": [
    "<a href=\"https://www.linkedin.com/in/nayefaboutayoun/\">Nayef Abou Tayoun</a>\n"
   ]
  },
  {
   "cell_type": "markdown",
   "metadata": {},
   "source": [
    "<!--\n",
    "## Change Log\n",
    "-->\n"
   ]
  },
  {
   "cell_type": "markdown",
   "metadata": {},
   "source": [
    "<!--\n",
    "| Date (YYYY-MM-DD) | Version | Changed By | Change Description      |\n",
    "| ----------------- | ------- | ---------- | ----------------------- |\n",
    "| 2021-06-09        | 1.0     | Yan Luo    | Tasks updates           |\n",
    "| 2020-11-10        | 1.0     | Nayef      | Created the initial version |\n",
    "-->\n"
   ]
  },
  {
   "cell_type": "markdown",
   "metadata": {},
   "source": [
    "Copyright © 2021 IBM Corporation. All rights reserved.\n"
   ]
  }
 ],
 "metadata": {
  "kernelspec": {
   "display_name": "Python",
   "language": "python",
   "name": "conda-env-python-py"
  },
  "language_info": {
   "codemirror_mode": {
    "name": "ipython",
    "version": 3
   },
   "file_extension": ".py",
   "mimetype": "text/x-python",
   "name": "python",
   "nbconvert_exporter": "python",
   "pygments_lexer": "ipython3",
   "version": "3.7.12"
  },
  "prev_pub_hash": "935d3177ae0c3f2ed2083cb1927c99bbd0b33214dfff8dadb45ee7d62f8f3b99"
 },
 "nbformat": 4,
 "nbformat_minor": 4
}
